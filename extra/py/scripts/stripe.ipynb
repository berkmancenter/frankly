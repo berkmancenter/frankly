{
 "cells": [
  {
   "cell_type": "code",
   "execution_count": null,
   "metadata": {},
   "outputs": [],
   "source": [
    "import stripe\n",
    "import pandas as pd\n",
    "from datetime import datetime\n",
    "import numpy as np\n",
    "# pd.reset_option('^display.', silent=True)  # Restore default display prefs\n",
    "\n",
    "stripe.api_key = open(\"../creds/stripe_key\", 'r').read()\n",
    "stripe.api_version = \"2020-08-27\""
   ]
  },
  {
   "cell_type": "code",
   "execution_count": null,
   "metadata": {},
   "outputs": [],
   "source": [
    "def stripe_get_data(resource, start_date=None, end_date=None, **kwargs):   \n",
    "    if start_date:\n",
    "        # convert to unix timestamp\n",
    "        start_date = int(start_date.timestamp())\n",
    "    if end_date:\n",
    "        # convert to unix timestamp\n",
    "        end_date = int(end_date.timestamp())\n",
    "    resource_list = getattr(stripe, resource).list(limit=100, created={\"gte\": start_date,\"lt\": end_date}, **kwargs)\n",
    "    lst = []\n",
    "    for i in resource_list.auto_paging_iter():\n",
    "        lst.extend([i])\n",
    "    df = pd.DataFrame(lst)\n",
    "    if len(df) > 0:\n",
    "        df['created'] = pd.to_datetime(df['created'], unit='s')\n",
    "    return df\n",
    "\n",
    "def contact_details(charges_field):\n",
    "    billing_details = charges_field['data'][0].get('billing_details')\n",
    "    contact = ', '.join([billing_details.name, billing_details.email])\n",
    "    return contact\n",
    "\n",
    "def generate_donation_report(junto_id, take_rate = .3):\n",
    "    s = [f'Donations for {junto_id}']\n",
    "    # Total per Junto\n",
    "    filtered_df = donations[df['meta_juntoId']==junto_id].filter(['amount_received', 'created', 'contact'])\n",
    "    total_donations = filtered_df['amount_received'].sum()\n",
    "    payout = total_donations * (1-take_rate)\n",
    "    s.append(f'Total Donations: {total_donations}')\n",
    "    s.append(f'Total Payout: {payout}')\n",
    "    s.append('\\n')\n",
    "    s.append(filtered_df.to_string(\n",
    "        header=True,\n",
    "        index=False,\n",
    "        index_names=False\n",
    "    ))\n",
    "    return '\\n'.join(s)"
   ]
  },
  {
   "cell_type": "code",
   "execution_count": null,
   "metadata": {},
   "outputs": [],
   "source": [
    "df = stripe_get_data('PaymentIntent')\n",
    "df = df.join(pd.json_normalize(df.metadata).add_prefix('meta_'))  # Flatten metadata fields\n",
    "\n",
    "# pd.json_normalize(df['charges'])['data'][0][0].get('billing_details').keys().email"
   ]
  },
  {
   "cell_type": "code",
   "execution_count": null,
   "metadata": {},
   "outputs": [],
   "source": [
    "donations = df[(df['meta_type']=='one_time_donation') & (df['status']=='succeeded')]\n",
    "donations['amount_received'] = donations['amount_received'].div(100).round(2)\n",
    "donations['contact'] = donations.apply(lambda row: contact_details(row['charges']), axis = 1)"
   ]
  },
  {
   "cell_type": "code",
   "execution_count": null,
   "metadata": {},
   "outputs": [],
   "source": [
    "junto_id = '53FXvTKVnJlUPInVgDzd'\n",
    "# junto_id = 'allsides-talks'\n",
    "take_rate = .2\n",
    "report = generate_donation_report(junto_id, take_rate)\n",
    "with open(f'/Users/benjaminturtel/Downloads/donation_report_{junto_id}', 'w') as f:\n",
    "    f.write(report)\n",
    "\n",
    "print(report)"
   ]
  }
 ],
 "metadata": {
  "interpreter": {
   "hash": "702792b55433cee6de9686d0bf040c7c8630e878f8aedd68e23e8eaf3d76250c"
  },
  "kernelspec": {
   "display_name": "Python 3.7.3 64-bit ('env': venv)",
   "name": "python3"
  },
  "language_info": {
   "codemirror_mode": {
    "name": "ipython",
    "version": 3
   },
   "file_extension": ".py",
   "mimetype": "text/x-python",
   "name": "python",
   "nbconvert_exporter": "python",
   "pygments_lexer": "ipython3",
   "version": "3.7.3"
  },
  "orig_nbformat": 2
 },
 "nbformat": 4,
 "nbformat_minor": 2
}
