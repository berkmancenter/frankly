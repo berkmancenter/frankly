{
 "cells": [
  {
   "cell_type": "markdown",
   "metadata": {},
   "source": [
    "# Automate Getting Recordings\n",
    "Or see the [Manual Documentation](https://docs.google.com/document/d/1ZTHdnEKNGF_DOZWCwQdO2sYWhaDCpZbBXDNp01UQe5Y/edit)\n",
    "\n"
   ]
  },
  {
   "cell_type": "code",
   "execution_count": null,
   "metadata": {},
   "outputs": [],
   "source": [
    "\n",
    "# TODO: Video name should be <unique_name>_<datetime>\n",
    "# TODO: Upload to Google Drive:\n",
    "# https://stackoverflow.com/questions/48993906/google-drive-python-api-uploading-large-files\n",
    "\n",
    "from datetime import date\n",
    "from datetime import datetime\n",
    "from datetime import timedelta\n",
    "import os\n",
    "from twilio.rest import Client\n",
    "import json\n",
    "from urllib.request import urlopen\n",
    "import time\n",
    "import pandas as pd"
   ]
  },
  {
   "cell_type": "markdown",
   "metadata": {},
   "source": [
    "# Compose and Download"
   ]
  },
  {
   "cell_type": "code",
   "execution_count": null,
   "metadata": {},
   "outputs": [],
   "source": [
    "\n",
    "# Your Account SID from twilio.com/console\n",
    "account_sid = \"AC8e7bb5a5223120747ab835398c6e6634\"\n",
    "ua_sid = 'AC61a955ebbab836551663c4521f1f5b41'\n",
    "\n",
    "# Your Auth Token from twilio.com/console\n",
    "BEN_JUNTO_DIR = '/Users/benjaminturtel/dev/junto'\n",
    "TWILIO_CRED_FILE = '%s/creds/twilio_auth_token' % BEN_JUNTO_DIR\n",
    "auth_token  = open(TWILIO_CRED_FILE, \"r\").read().strip()\n",
    "\n",
    "UA_TWILIO_CRED_FILE = '%s/creds/ua_twilio_auth_token' % BEN_JUNTO_DIR\n",
    "ua_auth_token  = open(UA_TWILIO_CRED_FILE, \"r\").read().strip()\n",
    "\n",
    "\n",
    "DOWNLOAD_FOLDER = '/Users/benjaminturtel/Downloads/TwilioCompositions'\n",
    "\n",
    "def compose_from_room(room_sid):\n",
    "    # room_sid is typically 'RMXXXX',\n",
    "    composition = client.video.compositions.create(\n",
    "        room_sid = room_sid,\n",
    "        format='mp4',\n",
    "        audio_sources = '*',\n",
    "        video_layout ={\n",
    "            \"grid\":{\n",
    "                \"video_sources\":[\"*\"]\n",
    "                }})\n",
    "    print('Created composition with SID=%s' % (composition.sid))\n",
    "\n",
    "\n",
    "def download_composition(composition_sid, download_location):\n",
    "    uri = 'https://video.twilio.com/v1/Compositions/{}/Media?Ttl=3600'.format(composition_sid)\n",
    "    response = client.request('GET', uri)\n",
    "    media_location = json.loads(response.text).get('redirect_to')\n",
    "\n",
    "    # For example, get the data and download the media to a local file\n",
    "    if not os.path.isdir(os.path.dirname(download_location)):\n",
    "        os.makedirs(os.path.dirname(download_location))\n",
    "    with open(download_location, 'wb+') as f:\n",
    "        f.write(urlopen(media_location).read())"
   ]
  },
  {
   "cell_type": "code",
   "execution_count": null,
   "metadata": {},
   "outputs": [],
   "source": [
    "\n",
    "def compose_from_room(room_sid):\n",
    "    # room_sid is typically 'RMXXXX',\n",
    "    composition = client.video.compositions.create(\n",
    "        room_sid = room_sid,\n",
    "        format='mp4',\n",
    "        audio_sources = '*',\n",
    "        video_layout ={\n",
    "            \"grid\":{\n",
    "                \"video_sources\":[\"*\"]\n",
    "                }})\n",
    "    print('Created composition with SID=%s' % (composition.sid))\n",
    "\n",
    "\n",
    "def download_composition(composition_sid, download_location):\n",
    "    uri = 'https://video.twilio.com/v1/Compositions/{}/Media?Ttl=3600'.format(composition_sid)\n",
    "    response = client.request('GET', uri)\n",
    "    media_location = json.loads(response.text).get('redirect_to')\n",
    "\n",
    "    # For example, get the data and download the media to a local file\n",
    "    if not os.path.isdir(os.path.dirname(download_location)):\n",
    "        os.makedirs(os.path.dirname(download_location))\n",
    "    with open(download_location, 'wb+') as f:\n",
    "        f.write(urlopen(media_location).read())"
   ]
  },
  {
   "cell_type": "markdown",
   "metadata": {},
   "source": [
    "# UA Recordings\n",
    "* Iterate over UA rooms: Subaccount\n",
    "* Function compose from rooms\n",
    "* And a download link\n"
   ]
  },
  {
   "cell_type": "code",
   "execution_count": null,
   "metadata": {},
   "outputs": [],
   "source": [
    "client = Client(ua_sid, ua_auth_token)"
   ]
  },
  {
   "cell_type": "code",
   "execution_count": null,
   "metadata": {},
   "outputs": [],
   "source": []
  },
  {
   "cell_type": "code",
   "execution_count": null,
   "metadata": {},
   "outputs": [],
   "source": [
    "rooms = client.video.rooms.list(status='completed', limit=1000)# , date_created_after=date(2021, 1, 22), date_created_before=date(2021, 1, 24))\n",
    "compose_rooms = [r for r in rooms if len(r.participants.list()) >= 2 and r.recordings.list()]\n",
    "len(compose_rooms)\n"
   ]
  },
  {
   "cell_type": "code",
   "execution_count": null,
   "metadata": {},
   "outputs": [],
   "source": [
    "print(\"%d rooms, %d to compose\" % (len(rooms), len(compose_rooms)))\n",
    "for room in compose_rooms:  # Compose all videos\n",
    "    compose_from_room(room.sid)"
   ]
  },
  {
   "cell_type": "code",
   "execution_count": null,
   "metadata": {},
   "outputs": [],
   "source": [
    "finished = False\n",
    "while not finished:  # Wait for all to finish\n",
    "    finished = True\n",
    "    for room in compose_rooms:\n",
    "        room_compositions = client.video.compositions.list(room_sid=room.sid)\n",
    "        if all([c.status == 'completed' for c in room_compositions]):\n",
    "            print(\"%s completed\" % room.sid)\n",
    "        else:\n",
    "            print(\"%s not completed\" % room.sid)\n",
    "            finished = False\n",
    "            time.sleep(60)  # Wait 1 minute\n",
    "            break"
   ]
  },
  {
   "cell_type": "code",
   "execution_count": null,
   "metadata": {},
   "outputs": [],
   "source": [
    "\n",
    "for room in compose_rooms:  # Download all videos\n",
    "    unique_name = room.unique_name\n",
    "    comp_list = client.video.compositions.list(room_sid=room.sid)\n",
    "    for i, comp in enumerate(comp_list):\n",
    "        filename = unique_name\n",
    "        if len(comp_list) > 1:\n",
    "            filename += '_%d' % i\n",
    "        download_composition(comp.sid, '%s/%s.%s' % (DOWNLOAD_FOLDER, filename, comp.format))"
   ]
  },
  {
   "cell_type": "markdown",
   "metadata": {},
   "source": [
    "# Brief Report"
   ]
  },
  {
   "cell_type": "code",
   "execution_count": null,
   "metadata": {},
   "outputs": [],
   "source": [
    "# Brief report\n",
    "rooms = client.video.rooms.list(status='completed', limit=100, date_created_after=date(2021, 1, 18))\n",
    "\n",
    "# Filter to United America - start with 'i-UC'\n",
    "ua_rooms = [r for r in rooms if r.unique_name.startswith('i-UC')]"
   ]
  },
  {
   "cell_type": "code",
   "execution_count": null,
   "metadata": {},
   "outputs": [],
   "source": [
    "\n",
    "data = [[r.unique_name, r.date_created, \n",
    "    len(set([r.sid for r in r.participants.list()])),\n",
    "    len(set([r.identity for r in r.participants.list()])),\n",
    "    ] for r in ua_rooms]\n",
    "df = pd.DataFrame(data, columns = ['room', 'date', 'p-sids', 'identities']).sort_values('identities', ascending=False).drop_duplicates(['room']).sort_values('date')"
   ]
  },
  {
   "cell_type": "code",
   "execution_count": null,
   "metadata": {},
   "outputs": [],
   "source": [
    "print('\\n'.join(df.apply(\n",
    "    lambda x: 'Room {room}, {date}, {p-sids} sids, {identities} identities.'.format(**x), 1\n",
    ")))"
   ]
  },
  {
   "cell_type": "markdown",
   "metadata": {},
   "source": [
    "# AUTH"
   ]
  },
  {
   "cell_type": "code",
   "execution_count": null,
   "metadata": {},
   "outputs": [],
   "source": [
    "from datetime import datetime\n",
    "from datetime import timedelta\n",
    "from twilio.rest import Client\n",
    "from twilio.jwt.access_token import AccessToken\n",
    "from twilio.jwt.access_token.grants import VideoGrant\n",
    "\n",
    "ACCOUNT_SID = \"TWILIO_ACCOUNT_SID_PLACEHOLDER\"\n",
    "API_KEY = 'TWILIO_API_KEY_PLACEHOLDER'\n",
    "API_SECRET = 'TWILIO_API_SECRET_PLACEHOLDER'\n",
    "\n",
    "ttl = 31\n",
    "client = Client(API_KEY, API_SECRET, ACCOUNT_SID)\n",
    "# Delete everything older than 31 days\n",
    "before_date = str((datetime.now() - timedelta(days=ttl)\n",
    "                    ).replace(microsecond=0).isoformat()) + 'Z'\n",
    "recordings = client.video.recordings.list(date_created_before=before_date)\n",
    "for r in recordings:\n",
    "    print(\"Delete Recording {}, created {}\".format(r.sid, r.date_created))\n",
    "\n",
    "compositions = client.video.compositions.list(date_created_before=before_date)\n",
    "for c in compositions:\n",
    "    print(\"Delete Composition {}, room {}, created {}\".format(c.sid, c.room_sid, c.date_created))"
   ]
  }
 ],
 "metadata": {
  "kernelspec": {
   "display_name": "Python 3.7.3 64-bit",
   "metadata": {
    "interpreter": {
     "hash": "a0b2551b2c4c49bb69429700dcb9854af348a7b5106b58b342ae96c215e76e8e"
    }
   },
   "name": "python3"
  },
  "language_info": {
   "codemirror_mode": {
    "name": "ipython",
    "version": 3
   },
   "file_extension": ".py",
   "mimetype": "text/x-python",
   "name": "python",
   "nbconvert_exporter": "python",
   "pygments_lexer": "ipython3",
   "version": "3.9.8"
  },
  "orig_nbformat": 2
 },
 "nbformat": 4,
 "nbformat_minor": 2
}
